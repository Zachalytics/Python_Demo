{
 "cells": [
  {
   "cell_type": "code",
   "execution_count": 1,
   "id": "c25cac2e",
   "metadata": {},
   "outputs": [],
   "source": [
    "import pandas as pd\n",
    "import numpy as np\n",
    "import os\n",
    "import matplotlib.pyplot as plt\n",
    "import seaborn as sns\n",
    "import scipy"
   ]
  },
  {
   "cell_type": "code",
   "execution_count": 2,
   "id": "0bb5d22d",
   "metadata": {},
   "outputs": [],
   "source": [
    "path= r'C:\\Users\\evras\\Desktop\\Data Analysis\\Immersion\\A4 Python\\Instacart Basket Analysis\\02 Data'"
   ]
  },
  {
   "cell_type": "code",
   "execution_count": 3,
   "id": "3ec4142f",
   "metadata": {},
   "outputs": [],
   "source": [
    "Vpath= r'C:\\Users\\evras\\Desktop\\Data Analysis\\Immersion\\A4 Python\\Instacart Basket Analysis\\04 Analysis\\Viz'"
   ]
  },
  {
   "cell_type": "code",
   "execution_count": 4,
   "id": "0358400b",
   "metadata": {},
   "outputs": [],
   "source": [
    "df=pd.read_pickle(os.path.join(path,'Preped Data','Ords_Prods_Cust_Final.pkl'))"
   ]
  },
  {
   "cell_type": "code",
   "execution_count": 5,
   "id": "1f9c5a13",
   "metadata": {},
   "outputs": [
    {
     "data": {
      "text/html": [
       "<div>\n",
       "<style scoped>\n",
       "    .dataframe tbody tr th:only-of-type {\n",
       "        vertical-align: middle;\n",
       "    }\n",
       "\n",
       "    .dataframe tbody tr th {\n",
       "        vertical-align: top;\n",
       "    }\n",
       "\n",
       "    .dataframe thead th {\n",
       "        text-align: right;\n",
       "    }\n",
       "</style>\n",
       "<table border=\"1\" class=\"dataframe\">\n",
       "  <thead>\n",
       "    <tr style=\"text-align: right;\">\n",
       "      <th></th>\n",
       "      <th>order_id</th>\n",
       "      <th>user_id</th>\n",
       "      <th>order_number</th>\n",
       "      <th>order_day_of_week</th>\n",
       "      <th>order_hour_of_day</th>\n",
       "      <th>days_since_prior_order</th>\n",
       "      <th>product_id</th>\n",
       "      <th>department_id</th>\n",
       "      <th>prices</th>\n",
       "      <th>price_range</th>\n",
       "      <th>...</th>\n",
       "      <th>mean_price</th>\n",
       "      <th>spending_flag</th>\n",
       "      <th>user_region</th>\n",
       "      <th>max_order</th>\n",
       "      <th>user_sobriety</th>\n",
       "      <th>user_parent_status</th>\n",
       "      <th>user_diet</th>\n",
       "      <th>user_pets</th>\n",
       "      <th>user_income_level</th>\n",
       "      <th>user_age_group</th>\n",
       "    </tr>\n",
       "  </thead>\n",
       "  <tbody>\n",
       "    <tr>\n",
       "      <th>0</th>\n",
       "      <td>2539329</td>\n",
       "      <td>1</td>\n",
       "      <td>1</td>\n",
       "      <td>2</td>\n",
       "      <td>8</td>\n",
       "      <td>0.0</td>\n",
       "      <td>196</td>\n",
       "      <td>7</td>\n",
       "      <td>9.0</td>\n",
       "      <td>mid-range product</td>\n",
       "      <td>...</td>\n",
       "      <td>6.367797</td>\n",
       "      <td>low spender</td>\n",
       "      <td>Region 3</td>\n",
       "      <td>10</td>\n",
       "      <td>Not Sober</td>\n",
       "      <td>Parent</td>\n",
       "      <td>Not Vegitarian</td>\n",
       "      <td>No Pets</td>\n",
       "      <td>Low Income</td>\n",
       "      <td>Adult</td>\n",
       "    </tr>\n",
       "    <tr>\n",
       "      <th>1</th>\n",
       "      <td>2398795</td>\n",
       "      <td>1</td>\n",
       "      <td>2</td>\n",
       "      <td>3</td>\n",
       "      <td>7</td>\n",
       "      <td>15.0</td>\n",
       "      <td>196</td>\n",
       "      <td>7</td>\n",
       "      <td>9.0</td>\n",
       "      <td>mid-range product</td>\n",
       "      <td>...</td>\n",
       "      <td>6.367797</td>\n",
       "      <td>low spender</td>\n",
       "      <td>Region 3</td>\n",
       "      <td>10</td>\n",
       "      <td>Not Sober</td>\n",
       "      <td>Parent</td>\n",
       "      <td>Not Vegitarian</td>\n",
       "      <td>No Pets</td>\n",
       "      <td>Low Income</td>\n",
       "      <td>Adult</td>\n",
       "    </tr>\n",
       "    <tr>\n",
       "      <th>2</th>\n",
       "      <td>473747</td>\n",
       "      <td>1</td>\n",
       "      <td>3</td>\n",
       "      <td>3</td>\n",
       "      <td>12</td>\n",
       "      <td>21.0</td>\n",
       "      <td>196</td>\n",
       "      <td>7</td>\n",
       "      <td>9.0</td>\n",
       "      <td>mid-range product</td>\n",
       "      <td>...</td>\n",
       "      <td>6.367797</td>\n",
       "      <td>low spender</td>\n",
       "      <td>Region 3</td>\n",
       "      <td>10</td>\n",
       "      <td>Not Sober</td>\n",
       "      <td>Parent</td>\n",
       "      <td>Not Vegitarian</td>\n",
       "      <td>No Pets</td>\n",
       "      <td>Low Income</td>\n",
       "      <td>Adult</td>\n",
       "    </tr>\n",
       "    <tr>\n",
       "      <th>3</th>\n",
       "      <td>2254736</td>\n",
       "      <td>1</td>\n",
       "      <td>4</td>\n",
       "      <td>4</td>\n",
       "      <td>7</td>\n",
       "      <td>29.0</td>\n",
       "      <td>196</td>\n",
       "      <td>7</td>\n",
       "      <td>9.0</td>\n",
       "      <td>mid-range product</td>\n",
       "      <td>...</td>\n",
       "      <td>6.367797</td>\n",
       "      <td>low spender</td>\n",
       "      <td>Region 3</td>\n",
       "      <td>10</td>\n",
       "      <td>Not Sober</td>\n",
       "      <td>Parent</td>\n",
       "      <td>Not Vegitarian</td>\n",
       "      <td>No Pets</td>\n",
       "      <td>Low Income</td>\n",
       "      <td>Adult</td>\n",
       "    </tr>\n",
       "    <tr>\n",
       "      <th>4</th>\n",
       "      <td>431534</td>\n",
       "      <td>1</td>\n",
       "      <td>5</td>\n",
       "      <td>4</td>\n",
       "      <td>15</td>\n",
       "      <td>28.0</td>\n",
       "      <td>196</td>\n",
       "      <td>7</td>\n",
       "      <td>9.0</td>\n",
       "      <td>mid-range product</td>\n",
       "      <td>...</td>\n",
       "      <td>6.367797</td>\n",
       "      <td>low spender</td>\n",
       "      <td>Region 3</td>\n",
       "      <td>10</td>\n",
       "      <td>Not Sober</td>\n",
       "      <td>Parent</td>\n",
       "      <td>Not Vegitarian</td>\n",
       "      <td>No Pets</td>\n",
       "      <td>Low Income</td>\n",
       "      <td>Adult</td>\n",
       "    </tr>\n",
       "  </tbody>\n",
       "</table>\n",
       "<p>5 rows × 28 columns</p>\n",
       "</div>"
      ],
      "text/plain": [
       "   order_id user_id  order_number  order_day_of_week  order_hour_of_day  \\\n",
       "0   2539329       1             1                  2                  8   \n",
       "1   2398795       1             2                  3                  7   \n",
       "2    473747       1             3                  3                 12   \n",
       "3   2254736       1             4                  4                  7   \n",
       "4    431534       1             5                  4                 15   \n",
       "\n",
       "   days_since_prior_order  product_id  department_id  prices  \\\n",
       "0                     0.0         196              7     9.0   \n",
       "1                    15.0         196              7     9.0   \n",
       "2                    21.0         196              7     9.0   \n",
       "3                    29.0         196              7     9.0   \n",
       "4                    28.0         196              7     9.0   \n",
       "\n",
       "         price_range  ... mean_price spending_flag user_region  max_order  \\\n",
       "0  mid-range product  ...   6.367797   low spender    Region 3         10   \n",
       "1  mid-range product  ...   6.367797   low spender    Region 3         10   \n",
       "2  mid-range product  ...   6.367797   low spender    Region 3         10   \n",
       "3  mid-range product  ...   6.367797   low spender    Region 3         10   \n",
       "4  mid-range product  ...   6.367797   low spender    Region 3         10   \n",
       "\n",
       "  user_sobriety  user_parent_status       user_diet  user_pets  \\\n",
       "0     Not Sober              Parent  Not Vegitarian    No Pets   \n",
       "1     Not Sober              Parent  Not Vegitarian    No Pets   \n",
       "2     Not Sober              Parent  Not Vegitarian    No Pets   \n",
       "3     Not Sober              Parent  Not Vegitarian    No Pets   \n",
       "4     Not Sober              Parent  Not Vegitarian    No Pets   \n",
       "\n",
       "   user_income_level user_age_group  \n",
       "0         Low Income          Adult  \n",
       "1         Low Income          Adult  \n",
       "2         Low Income          Adult  \n",
       "3         Low Income          Adult  \n",
       "4         Low Income          Adult  \n",
       "\n",
       "[5 rows x 28 columns]"
      ]
     },
     "execution_count": 5,
     "metadata": {},
     "output_type": "execute_result"
    }
   ],
   "source": [
    "df.head()"
   ]
  },
  {
   "cell_type": "code",
   "execution_count": 6,
   "id": "0998a5f4",
   "metadata": {
    "scrolled": true
   },
   "outputs": [
    {
     "data": {
      "text/plain": [
       "Index(['order_id', 'user_id', 'order_number', 'order_day_of_week',\n",
       "       'order_hour_of_day', 'days_since_prior_order', 'product_id',\n",
       "       'department_id', 'prices', 'price_range', 'busiest_days',\n",
       "       'busiest_period_of_day', 'user_state', 'user_age', 'date_joined',\n",
       "       'user_dependants', 'user_fam_status', 'user_income', 'mean_price',\n",
       "       'spending_flag', 'user_region', 'max_order', 'user_sobriety',\n",
       "       'user_parent_status', 'user_diet', 'user_pets', 'user_income_level',\n",
       "       'user_age_group'],\n",
       "      dtype='object')"
      ]
     },
     "execution_count": 6,
     "metadata": {},
     "output_type": "execute_result"
    }
   ],
   "source": [
    "df.columns"
   ]
  },
  {
   "cell_type": "code",
   "execution_count": 7,
   "id": "59501306",
   "metadata": {},
   "outputs": [
    {
     "data": {
      "text/plain": [
       "99    1171076\n",
       "8      811706\n",
       "6      811237\n",
       "9      810057\n",
       "7      803838\n",
       "       ...   \n",
       "97      44949\n",
       "98      44585\n",
       "96      40449\n",
       "2           6\n",
       "1           5\n",
       "Name: max_order, Length: 99, dtype: int64"
      ]
     },
     "execution_count": 7,
     "metadata": {},
     "output_type": "execute_result"
    }
   ],
   "source": [
    "df['max_order'].value_counts()"
   ]
  },
  {
   "cell_type": "code",
   "execution_count": 8,
   "id": "87fe420c",
   "metadata": {},
   "outputs": [],
   "source": [
    "df.loc[df['max_order']>40,'user_loyalty']=\"Loyal\"\n",
    "df.loc[(df['max_order']<=40)&(df['max_order']>10),'user_loyalty']='Regular'\n",
    "df.loc[df['max_order']<=10, 'user_loyalty']='New'"
   ]
  },
  {
   "cell_type": "code",
   "execution_count": 9,
   "id": "f4e96241",
   "metadata": {},
   "outputs": [
    {
     "data": {
      "text/plain": [
       "Regular    15874128\n",
       "Loyal      10282763\n",
       "New         6242841\n",
       "Name: user_loyalty, dtype: int64"
      ]
     },
     "execution_count": 9,
     "metadata": {},
     "output_type": "execute_result"
    }
   ],
   "source": [
    "df['user_loyalty'].value_counts()"
   ]
  },
  {
   "cell_type": "code",
   "execution_count": 32,
   "id": "29d60020",
   "metadata": {},
   "outputs": [
    {
     "data": {
      "image/png": "[encoded data removed]",
      "text/plain": [
       "<Figure size 432x288 with 1 Axes>"
      ]
     },
     "metadata": {
      "needs_background": "light"
     },
     "output_type": "display_data"
    }
   ],
   "source": [
    "Age_loyalty_hbar=df.groupby('user_age_group')['user_loyalty'].value_counts().sort_index().plot.barh(color=['blue','orange','green'])"
   ]
  },
  {
   "cell_type": "code",
   "execution_count": 34,
   "id": "7035ca5f",
   "metadata": {},
   "outputs": [],
   "source": [
    "Age_loyalty_hbar.figure.savefig(os.path.join(Vpath,'Age and loyalty bar.png'),bbox_inches='tight')"
   ]
  },
  {
   "cell_type": "code",
   "execution_count": 26,
   "id": "a60c3ac0",
   "metadata": {},
   "outputs": [
    {
     "data": {
      "image/png": "[encoded data removed]",
      "text/plain": [
       "<Figure size 432x288 with 1 Axes>"
      ]
     },
     "metadata": {
      "needs_background": "light"
     },
     "output_type": "display_data"
    }
   ],
   "source": [
    "loyalty_bar=df['user_loyalty'].value_counts().sort_index().plot.barh(color=['blue','orange','green'])"
   ]
  },
  {
   "cell_type": "code",
   "execution_count": 35,
   "id": "867039de",
   "metadata": {},
   "outputs": [],
   "source": [
    "loyalty_bar.figure.savefig(os.path.join(Vpath,'loyalty bar.png'),bbox_inches='tight')"
   ]
  },
  {
   "cell_type": "code",
   "execution_count": 39,
   "id": "1b9eb3e5",
   "metadata": {},
   "outputs": [
    {
     "data": {
      "text/plain": [
       "married                             22753055\n",
       "single                               5324920\n",
       "divorced/widowed                     2771355\n",
       "living with parents and siblings     1550402\n",
       "Name: user_fam_status, dtype: int64"
      ]
     },
     "execution_count": 39,
     "metadata": {},
     "output_type": "execute_result"
    }
   ],
   "source": [
    "df['user_fam_status'].value_counts()"
   ]
  },
  {
   "cell_type": "code",
   "execution_count": 41,
   "id": "1f1a2f0b",
   "metadata": {},
   "outputs": [
    {
     "data": {
      "image/png": "[encoded data removed]",
      "text/plain": [
       "<Figure size 432x288 with 1 Axes>"
      ]
     },
     "metadata": {
      "needs_background": "light"
     },
     "output_type": "display_data"
    }
   ],
   "source": [
    "Fam_loyalty_hbar=df.groupby('user_parent_status')['user_loyalty'].value_counts().sort_index().plot.barh(color=['blue','orange','green'])"
   ]
  },
  {
   "cell_type": "code",
   "execution_count": 43,
   "id": "7a50c1d6",
   "metadata": {},
   "outputs": [],
   "source": [
    "Fam_loyalty_hbar.figure.savefig(os.path.join(Vpath,'FamilyLoyalty.png'),bbox_inches='tight')"
   ]
  },
  {
   "cell_type": "code",
   "execution_count": 44,
   "id": "80df97e2",
   "metadata": {},
   "outputs": [
    {
     "data": {
      "image/png": "[encoded data removed]",
      "text/plain": [
       "<Figure size 432x288 with 1 Axes>"
      ]
     },
     "metadata": {
      "needs_background": "light"
     },
     "output_type": "display_data"
    }
   ],
   "source": [
    "Inc_loyalty_hbar=df.groupby('user_income_level')['user_loyalty'].value_counts().sort_index().plot.barh(color=['blue','orange','green'])"
   ]
  },
  {
   "cell_type": "code",
   "execution_count": 45,
   "id": "da4075b2",
   "metadata": {},
   "outputs": [],
   "source": [
    "Inc_loyalty_hbar.figure.savefig(os.path.join(Vpath,'IncomeLoyalty.png'),bbox_inches='tight')"
   ]
  },
  {
   "cell_type": "code",
   "execution_count": null,
   "id": "9e8971da",
   "metadata": {},
   "outputs": [],
   "source": []
  }
 ],
 "metadata": {
  "kernelspec": {
   "display_name": "Python 3",
   "language": "python",
   "name": "python3"
  },
  "language_info": {
   "codemirror_mode": {
    "name": "ipython",
    "version": 3
   },
   "file_extension": ".py",
   "mimetype": "text/x-python",
   "name": "python",
   "nbconvert_exporter": "python",
   "pygments_lexer": "ipython3",
   "version": "3.8.8"
  }
 },
 "nbformat": 4,
 "nbformat_minor": 5
}
