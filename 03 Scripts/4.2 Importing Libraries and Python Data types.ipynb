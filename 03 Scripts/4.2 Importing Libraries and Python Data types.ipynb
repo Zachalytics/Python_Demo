{
 "cells": [
  {
   "cell_type": "markdown",
   "id": "a730c8f8",
   "metadata": {},
   "source": [
    "### Imports"
   ]
  },
  {
   "cell_type": "code",
   "execution_count": 22,
   "id": "37cbe68f",
   "metadata": {},
   "outputs": [],
   "source": [
    "#import libraries"
   ]
  },
  {
   "cell_type": "code",
   "execution_count": 23,
   "id": "a8c1c111",
   "metadata": {},
   "outputs": [],
   "source": [
    "import pandas as pd\n",
    "import numpy as np\n",
    "import os"
   ]
  },
  {
   "cell_type": "markdown",
   "id": "bce40ebb",
   "metadata": {},
   "source": [
    "#### Mathing With Variables"
   ]
  },
  {
   "cell_type": "code",
   "execution_count": 27,
   "id": "86ab7b3e",
   "metadata": {},
   "outputs": [],
   "source": [
    "x=50\n",
    "y=150"
   ]
  },
  {
   "cell_type": "code",
   "execution_count": 28,
   "id": "ab732a7d",
   "metadata": {},
   "outputs": [
    {
     "name": "stdout",
     "output_type": "stream",
     "text": [
      "50\n",
      "150\n"
     ]
    }
   ],
   "source": [
    "print(x)\n",
    "print (y)"
   ]
  },
  {
   "cell_type": "code",
   "execution_count": 31,
   "id": "3d62e82b",
   "metadata": {},
   "outputs": [
    {
     "name": "stdout",
     "output_type": "stream",
     "text": [
      "100\n",
      "100\n",
      "100\n"
     ]
    }
   ],
   "source": [
    "print (y-100+x)\n",
    "print(x+x)\n",
    "print (y-x)"
   ]
  },
  {
   "cell_type": "code",
   "execution_count": 35,
   "id": "25f2a247",
   "metadata": {},
   "outputs": [
    {
     "name": "stdout",
     "output_type": "stream",
     "text": [
      "1.5 3.0\n"
     ]
    }
   ],
   "source": [
    "d=1.5\n",
    "n=3.0\n",
    "print (d,n)"
   ]
  },
  {
   "cell_type": "code",
   "execution_count": 34,
   "id": "9faf0abe",
   "metadata": {},
   "outputs": [
    {
     "data": {
      "text/plain": [
       "2.0"
      ]
     },
     "execution_count": 34,
     "metadata": {},
     "output_type": "execute_result"
    }
   ],
   "source": [
    "n/d"
   ]
  },
  {
   "cell_type": "code",
   "execution_count": 37,
   "id": "d24da4ea",
   "metadata": {},
   "outputs": [
    {
     "name": "stdout",
     "output_type": "stream",
     "text": [
      "pops\n"
     ]
    }
   ],
   "source": [
    "p='p'\n",
    "o='o'\n",
    "s='s'\n",
    "print (p+o+p+s)"
   ]
  },
  {
   "cell_type": "code",
   "execution_count": 39,
   "id": "3c523599",
   "metadata": {},
   "outputs": [
    {
     "name": "stdout",
     "output_type": "stream",
     "text": [
      "This is a little silly. It is also sort of fun though.\n"
     ]
    }
   ],
   "source": [
    "f='This is a'\n",
    "v='little silly.'\n",
    "b='It is also'\n",
    "t='sort of fun though.'\n",
    "print (f,v,b,t)"
   ]
  },
  {
   "cell_type": "code",
   "execution_count": 40,
   "id": "afab7376",
   "metadata": {},
   "outputs": [
    {
     "name": "stdout",
     "output_type": "stream",
     "text": [
      "Bart's Earned A Day Off\n"
     ]
    }
   ],
   "source": [
    "simp_ref=\"Bart's Earned A Day Off\"\n",
    "print(simp_ref)"
   ]
  },
  {
   "cell_type": "code",
   "execution_count": 41,
   "id": "80277b5a",
   "metadata": {},
   "outputs": [
    {
     "data": {
      "text/plain": [
       "\"Bart's Earned A Day OffBart's Earned A Day OffBart's Earned A Day OffBart's Earned A Day OffBart's Earned A Day OffBart's Earned A Day OffBart's Earned A Day OffBart's Earned A Day OffBart's Earned A Day OffBart's Earned A Day OffBart's Earned A Day OffBart's Earned A Day OffBart's Earned A Day OffBart's Earned A Day OffBart's Earned A Day OffBart's Earned A Day OffBart's Earned A Day OffBart's Earned A Day OffBart's Earned A Day OffBart's Earned A Day OffBart's Earned A Day OffBart's Earned A Day OffBart's Earned A Day OffBart's Earned A Day OffBart's Earned A Day OffBart's Earned A Day OffBart's Earned A Day OffBart's Earned A Day OffBart's Earned A Day OffBart's Earned A Day OffBart's Earned A Day OffBart's Earned A Day OffBart's Earned A Day OffBart's Earned A Day OffBart's Earned A Day OffBart's Earned A Day OffBart's Earned A Day OffBart's Earned A Day OffBart's Earned A Day OffBart's Earned A Day OffBart's Earned A Day OffBart's Earned A Day OffBart's Earned A Day OffBart's Earned A Day OffBart's Earned A Day OffBart's Earned A Day OffBart's Earned A Day OffBart's Earned A Day OffBart's Earned A Day OffBart's Earned A Day OffBart's Earned A Day OffBart's Earned A Day OffBart's Earned A Day OffBart's Earned A Day OffBart's Earned A Day OffBart's Earned A Day OffBart's Earned A Day OffBart's Earned A Day OffBart's Earned A Day OffBart's Earned A Day OffBart's Earned A Day OffBart's Earned A Day OffBart's Earned A Day OffBart's Earned A Day OffBart's Earned A Day OffBart's Earned A Day OffBart's Earned A Day OffBart's Earned A Day OffBart's Earned A Day OffBart's Earned A Day OffBart's Earned A Day OffBart's Earned A Day OffBart's Earned A Day OffBart's Earned A Day OffBart's Earned A Day OffBart's Earned A Day OffBart's Earned A Day OffBart's Earned A Day OffBart's Earned A Day OffBart's Earned A Day OffBart's Earned A Day OffBart's Earned A Day OffBart's Earned A Day OffBart's Earned A Day OffBart's Earned A Day OffBart's Earned A Day OffBart's Earned A Day OffBart's Earned A Day OffBart's Earned A Day OffBart's Earned A Day OffBart's Earned A Day OffBart's Earned A Day OffBart's Earned A Day OffBart's Earned A Day OffBart's Earned A Day OffBart's Earned A Day OffBart's Earned A Day OffBart's Earned A Day OffBart's Earned A Day OffBart's Earned A Day Off\""
      ]
     },
     "execution_count": 41,
     "metadata": {},
     "output_type": "execute_result"
    }
   ],
   "source": [
    "simp_ref*100"
   ]
  },
  {
   "cell_type": "code",
   "execution_count": null,
   "id": "9164fa8e",
   "metadata": {},
   "outputs": [],
   "source": []
  }
 ],
 "metadata": {
  "kernelspec": {
   "display_name": "Python 3",
   "language": "python",
   "name": "python3"
  },
  "language_info": {
   "codemirror_mode": {
    "name": "ipython",
    "version": 3
   },
   "file_extension": ".py",
   "mimetype": "text/x-python",
   "name": "python",
   "nbconvert_exporter": "python",
   "pygments_lexer": "ipython3",
   "version": "3.8.8"
  }
 },
 "nbformat": 4,
 "nbformat_minor": 5
}
